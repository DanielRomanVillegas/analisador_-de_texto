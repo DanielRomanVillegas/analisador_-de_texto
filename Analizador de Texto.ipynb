{
 "cells": [
  {
   "cell_type": "markdown",
   "id": "9572445f",
   "metadata": {},
   "source": [
    "# Proyecto del Día 3: Analizador de Texto\n",
    "\n",
    "Este proyecto tiene como objetivo aplicar los conceptos aprendidos sobre strings, input, indexación y formateo de strings en Python. El programa permitirá al usuario ingresar un texto y luego elegir realizar diversas operaciones de análisis sobre ese texto.\n",
    "\n",
    "## Consigna\n",
    "Vas a crear un programa que le pida al usuario que ingrese un texto de al menos 10 palabras. Tu programa va a procesar ese texto, lo va a procesar, y le va a devolver un análisis detallado, que incluya:\n",
    "1. Contar el número total de caracteres en el texto\n",
    "2. Contar el número de caracteres sin incluir los espacios\n",
    "3. Contar la cantidad de vocales que hay en el texto\n",
    "4. Contar el número total de palabras en el texto ingresado\n",
    "\n",
    "**nota**: para resolver los siguientes items, deberás investigar otros métodos de strings que no hemos visto. Recuerda valerte de *type*, *dir* y *help*\n",
    "\n",
    "5. Eliminar la primera palabra\n",
    "6. Reemplazar todos los espacios por guiones medios (-)\n",
    "8. Cambia las mayúsculas a minúsculas y las minúsculas a mayúsculas \n",
    "\n",
    "Al finalizar el procesamiento, se imprimirán 8 cadenas literales mostrando los resultados del análisis (una cadena por cada resultado).\n",
    "<br>\n",
    "<br>\n",
    "<br>"
   ]
  },
  {
   "cell_type": "markdown",
   "id": "e5cd9e4d",
   "metadata": {},
   "source": [
    "### Resolución\n",
    "\n",
    "Ingreso del usuario:"
   ]
  },
  {
   "cell_type": "code",
   "execution_count": 180,
   "id": "fa27da8c",
   "metadata": {},
   "outputs": [],
   "source": [
    "usuario = input(\"Ingrese su nombre de usuario: \")\n",
    "if len(usuario) < 10:\n",
    "    usuario = input(\"Ingrese de nuevo un usuario mayor a 10 caracteres: \")\n"
   ]
  },
  {
   "cell_type": "markdown",
   "id": "41214377",
   "metadata": {},
   "source": [
    "1. Contar el número total de caracteres en el texto"
   ]
  },
  {
   "cell_type": "code",
   "execution_count": 181,
   "id": "40448873",
   "metadata": {},
   "outputs": [],
   "source": [
    "total_caracteres = len(usuario)"
   ]
  },
  {
   "cell_type": "markdown",
   "id": "3d6378dc",
   "metadata": {},
   "source": [
    "2. Contar el número de caracteres sin incluir los espacios"
   ]
  },
  {
   "cell_type": "code",
   "execution_count": 182,
   "id": "991b29c7",
   "metadata": {},
   "outputs": [],
   "source": [
    "espacio = usuario.count(\" \")\n",
    "sin_espacio = total_caracteres - espacio"
   ]
  },
  {
   "cell_type": "markdown",
   "id": "c6e62385",
   "metadata": {},
   "source": [
    "3. Contar la cantidad de vocales que hay en el texto"
   ]
  },
  {
   "cell_type": "code",
   "execution_count": 183,
   "id": "65b19bc7",
   "metadata": {},
   "outputs": [],
   "source": [
    "a = usuario.count(\"a\")\n",
    "e = usuario.count(\"e\")\n",
    "i = usuario.count(\"i\")\n",
    "o = usuario.count(\"o\")\n",
    "u = usuario.count(\"u\")\n",
    "total_vocales = a + e + i + o + u"
   ]
  },
  {
   "cell_type": "markdown",
   "id": "4b6211c5",
   "metadata": {},
   "source": [
    "4. Contar el número total de palabras en el texto ingresado"
   ]
  },
  {
   "cell_type": "code",
   "execution_count": 184,
   "id": "5b6eb1b1",
   "metadata": {},
   "outputs": [],
   "source": [
    "total_palabras = usuario.strip().count(\" \")+1"
   ]
  },
  {
   "cell_type": "markdown",
   "id": "bee5597e",
   "metadata": {},
   "source": [
    "5. Eliminar la primera palabra"
   ]
  },
  {
   "cell_type": "code",
   "execution_count": 185,
   "id": "8bcbfe9d",
   "metadata": {},
   "outputs": [],
   "source": [
    "primera_palabra = usuario.split()\n",
    "primera_palabra = str(primera_palabra[0])\n",
    "elimina_primeraPalabra = usuario.removeprefix(primera_palabra).strip()"
   ]
  },
  {
   "cell_type": "markdown",
   "id": "d5b05440",
   "metadata": {},
   "source": [
    "6. Reemplazar todos los espacios por guiones medios (-)"
   ]
  },
  {
   "cell_type": "code",
   "execution_count": 186,
   "id": "90a21e61",
   "metadata": {},
   "outputs": [],
   "source": [
    "guion_medio = usuario.replace(\" \", \"-\")"
   ]
  },
  {
   "cell_type": "markdown",
   "id": "8a61c508",
   "metadata": {},
   "source": [
    "7. Cambia las mayúsculas a minúsculas y las minúsculas a mayúsculas"
   ]
  },
  {
   "cell_type": "code",
   "execution_count": 187,
   "id": "8cb35aaf",
   "metadata": {},
   "outputs": [],
   "source": [
    "mayusculas_minusculas = usuario.swapcase()"
   ]
  },
  {
   "cell_type": "markdown",
   "id": "66b8d816",
   "metadata": {},
   "source": [
    "Muéstrale al usuario los resultados del análisis de su texto."
   ]
  },
  {
   "cell_type": "code",
   "execution_count": 188,
   "id": "eb0d449a",
   "metadata": {},
   "outputs": [
    {
     "name": "stdout",
     "output_type": "stream",
     "text": [
      "Tú nombre de usuario es: Yoselin Patricia Rodriguez Taylor\n",
      "\n",
      "Tú número total de caracteres es: 33\n",
      "\n",
      "Tú número total de caracteres sin espacios es: 30\n",
      "\n",
      "Tu cantidad de 'a' son: 3, tú cantidad de 'e' son: 2, tú cantidad de 'i' son: 4, tú cantidad de 'o' son: 3, tú cantidad de 'u' son: 1,  tú cantidad total de vocales son: 13,\n",
      "\n",
      "Tú número total de palabras: 4\n",
      "\n",
      "Tú texto sin la primera palabra: Patricia Rodriguez Taylor\n",
      "\n",
      "Tú cambiando espacios por '-': Yoselin-Patricia-Rodriguez-Taylor\n",
      "\n",
      "Tú texto invirtiendo mayúsculas y minúsculas yOSELIN pATRICIA rODRIGUEZ tAYLOR\n",
      "\n"
     ]
    }
   ],
   "source": [
    "print(f\"Tú nombre de usuario es: {usuario}\\n\")\n",
    "print(f\"Tú número total de caracteres es: {total_caracteres}\\n\")\n",
    "print(f\"Tú número total de caracteres sin espacios es: {sin_espacio}\\n\")\n",
    "print(f\"Tu cantidad de 'a' son: {a}, tú cantidad de 'e' son: {e}, tú cantidad de 'i' son: {i}, tú cantidad de 'o' son: {o}, tú cantidad de 'u' son: {u},  tú cantidad total de vocales son: {total_vocales},\\n\")\n",
    "print(f\"Tú número total de palabras: {total_palabras}\\n\")\n",
    "print(f\"Tú texto sin la primera palabra: {elimina_primeraPalabra}\\n\")\n",
    "print(f\"Tú cambiando espacios por '-': {guion_medio}\\n\")\n",
    "print(f\"Tú texto invirtiendo mayúsculas y minúsculas {mayusculas_minusculas}\\n\")\n"
   ]
  }
 ],
 "metadata": {
  "kernelspec": {
   "display_name": "Python 3",
   "language": "python",
   "name": "python3"
  },
  "language_info": {
   "codemirror_mode": {
    "name": "ipython",
    "version": 3
   },
   "file_extension": ".py",
   "mimetype": "text/x-python",
   "name": "python",
   "nbconvert_exporter": "python",
   "pygments_lexer": "ipython3",
   "version": "3.13.0"
  }
 },
 "nbformat": 4,
 "nbformat_minor": 5
}
